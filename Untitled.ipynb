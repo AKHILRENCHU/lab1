{
 "cells": [
  {
   "cell_type": "code",
   "execution_count": null,
   "id": "5915405d",
   "metadata": {},
   "outputs": [],
   "source": [
    "import numpy as np #for working with numerical data in Python\n",
    "import pandas as pd #for working with data in Python\n",
    "import matplotlib.pyplot as plt #for creating various types of plots\n"
   ]
  },
  {
   "cell_type": "code",
   "execution_count": 1,
   "id": "fa0ef224",
   "metadata": {},
   "outputs": [],
   "source": [
    "def ComputeCost(X,y,theta): #define a function called ComputeCost that takes three arguments: X, y, and theta\n",
    "    n=len(y)# n is initialized to the length of y\n",
    "    h=X.dot(theta)\n",
    "    square_err=(h-y)**2 ## compute the squared error between the predicted values and the actual values\n",
    "    return 1/(2*m)*np.sum(square_err) #to return the cost of the linear regression\n",
    "def gradientDescent (X,y,theta,alpha,num_iters):#define a function called gradientDescent\n",
    "    n=len(y)# n is initialized to the length of y\n",
    "    J_history=[] # an empty list created\n",
    "    for i in  range(num_iters):# loop over the specified number of iterations\n",
    "        h=X.dot(theta)# for predicted values\n",
    "        error=np.dot(X.transpose(),(h-y))#compute the error between the predicted and actual values\n",
    "        descent=alpha*(1/m)*error# compute the descent\n",
    "        theta-=descent#update theta\n",
    "        J_history.append(ComputeCost(X,y,theta))# adding the current new value to the list\n",
    "    return theta,J_history# return new parameters\n"
   ]
  },
  {
   "cell_type": "code",
   "execution_count": 10,
   "id": "a5014cc9",
   "metadata": {},
   "outputs": [
    {
     "ename": "NameError",
     "evalue": "name 'pd' is not defined",
     "output_type": "error",
     "traceback": [
      "\u001b[1;31m---------------------------------------------------------------------------\u001b[0m",
      "\u001b[1;31mNameError\u001b[0m                                 Traceback (most recent call last)",
      "\u001b[1;32m~\\AppData\\Local\\Temp\\ipykernel_6608\\1692728169.py\u001b[0m in \u001b[0;36m<module>\u001b[1;34m\u001b[0m\n\u001b[1;32m----> 1\u001b[1;33m \u001b[0mdata\u001b[0m\u001b[1;33m=\u001b[0m\u001b[0mpd\u001b[0m\u001b[1;33m.\u001b[0m\u001b[0mread_txt\u001b[0m\u001b[1;33m(\u001b[0m\u001b[1;34m'ex1data1.txt'\u001b[0m\u001b[1;33m,\u001b[0m\u001b[0mheader\u001b[0m\u001b[1;33m=\u001b[0m\u001b[1;32mNone\u001b[0m\u001b[1;33m)\u001b[0m\u001b[1;31m# read the data from the CSV file and store it in a Pandas DataFrame called 'data'\u001b[0m\u001b[1;33m\u001b[0m\u001b[1;33m\u001b[0m\u001b[0m\n\u001b[0m\u001b[0;32m      2\u001b[0m \u001b[0mdata\u001b[0m\u001b[1;33m.\u001b[0m\u001b[0mhead\u001b[0m\u001b[1;33m(\u001b[0m\u001b[1;36m25\u001b[0m\u001b[1;33m)\u001b[0m\u001b[1;33m\u001b[0m\u001b[1;33m\u001b[0m\u001b[0m\n\u001b[0;32m      3\u001b[0m \u001b[1;33m\u001b[0m\u001b[0m\n",
      "\u001b[1;31mNameError\u001b[0m: name 'pd' is not defined"
     ]
    }
   ],
   "source": [
    "data=pd.read_txt('ex1data1.txt',header=None)# read the data from the CSV file and store it in a Pandas DataFrame called 'data'\n",
    "data.head(25)\n",
    "\n"
   ]
  },
  {
   "cell_type": "code",
   "execution_count": null,
   "id": "4855ffba",
   "metadata": {},
   "outputs": [],
   "source": []
  }
 ],
 "metadata": {
  "kernelspec": {
   "display_name": "Python 3 (ipykernel)",
   "language": "python",
   "name": "python3"
  },
  "language_info": {
   "codemirror_mode": {
    "name": "ipython",
    "version": 3
   },
   "file_extension": ".py",
   "mimetype": "text/x-python",
   "name": "python",
   "nbconvert_exporter": "python",
   "pygments_lexer": "ipython3",
   "version": "3.9.13"
  }
 },
 "nbformat": 4,
 "nbformat_minor": 5
}
